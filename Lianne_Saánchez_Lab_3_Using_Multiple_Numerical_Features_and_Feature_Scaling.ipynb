{
  "nbformat": 4,
  "nbformat_minor": 0,
  "metadata": {
    "colab": {
      "name": "Lianne Saánchez - Lab 3: Using Multiple Numerical Features and Feature Scaling",
      "version": "0.3.2",
      "provenance": [],
      "collapsed_sections": [
        "JndnmDMp66FL"
      ],
      "include_colab_link": true
    },
    "kernelspec": {
      "name": "python3",
      "display_name": "Python 3"
    }
  },
  "cells": [
    {
      "cell_type": "markdown",
      "metadata": {
        "id": "view-in-github",
        "colab_type": "text"
      },
      "source": [
        "[View in Colaboratory](https://colab.research.google.com/github/liannesr/Lab-3-Machine-Learning/blob/master/Lianne_Sa%C3%A1nchez_Lab_3_Using_Multiple_Numerical_Features_and_Feature_Scaling.ipynb)"
      ]
    },
    {
      "metadata": {
        "id": "JndnmDMp66FL",
        "colab_type": "text"
      },
      "cell_type": "markdown",
      "source": [
        "#### Copyright 2018 Google LLC."
      ]
    },
    {
      "metadata": {
        "id": "hMqWDc_m6rUC",
        "colab_type": "code",
        "colab": {},
        "cellView": "both"
      },
      "cell_type": "code",
      "source": [
        "# Licensed under the Apache License, Version 2.0 (the \"License\");\n",
        "# you may not use this file except in compliance with the License.\n",
        "# You may obtain a copy of the License at\n",
        "#\n",
        "# https://www.apache.org/licenses/LICENSE-2.0\n",
        "#\n",
        "# Unless required by applicable law or agreed to in writing, software\n",
        "# distributed under the License is distributed on an \"AS IS\" BASIS,\n",
        "# WITHOUT WARRANTIES OR CONDITIONS OF ANY KIND, either express or implied.\n",
        "# See the License for the specific language governing permissions and\n",
        "# limitations under the License."
      ],
      "execution_count": 0,
      "outputs": []
    },
    {
      "metadata": {
        "id": "combined_import_panda_text",
        "colab_type": "text"
      },
      "cell_type": "markdown",
      "source": [
        "### Imports and Pandas Options\n",
        "We import the libraries we are using and set some panda options."
      ]
    },
    {
      "metadata": {
        "id": "combined_import_panda_code",
        "colab_type": "code",
        "colab": {}
      },
      "cell_type": "code",
      "source": [
        "import fnmatch\n",
        "import math\n",
        "\n",
        "from IPython import display\n",
        "from matplotlib import cm\n",
        "from matplotlib import gridspec\n",
        "from matplotlib import pyplot as plt\n",
        "import numpy as np\n",
        "import pandas as pd\n",
        "from sklearn import metrics\n",
        "import tensorflow as tf\n",
        "from tensorflow.python.data import Dataset\n",
        "\n",
        "# This line increasing the amount of logging when there is an error.  You can\n",
        "# remove it if you want less logging\n",
        "tf.logging.set_verbosity(tf.logging.ERROR)\n",
        "\n",
        "# Set the output display to have one digit for decimal places, for display\n",
        "# readability only and limit it to printing 15 rows.\n",
        "pd.options.display.float_format = '{:.2f}'.format\n",
        "pd.options.display.max_rows = 15"
      ],
      "execution_count": 0,
      "outputs": []
    },
    {
      "metadata": {
        "id": "data_set_text_short_description",
        "colab_type": "text"
      },
      "cell_type": "markdown",
      "source": [
        "### Data Set\n",
        "As in the last lab we use the [Automobile Data Set](https://archive.ics.uci.edu/ml/datasets/automobile)  from 1985 Ward's Automotive Yearbook that is part of the  [UCI Machine Learning Repository](https://archive.ics.uci.edu/ml/datasets) "
      ]
    },
    {
      "metadata": {
        "id": "load_auto_data_set_text",
        "colab_type": "text"
      },
      "cell_type": "markdown",
      "source": [
        "### Load and randomizing the data\n",
        "Load the data using the column names from [Automobile Data Set](https://archive.ics.uci.edu/ml/datasets/automobile). When using SGD (stochastic graident descent) for training it is important that **each batch is a random sample of the data** so that the gradient computed is representative.  While there appears to be no order to this data set, it is always good practice to shuffle the data to be in a random order.\n"
      ]
    },
    {
      "metadata": {
        "id": "load_auto_data_set_code",
        "colab_type": "code",
        "colab": {}
      },
      "cell_type": "code",
      "source": [
        "# Provide the names for the columns since the CSV file with the data does\n",
        "# not have a header row.\n",
        "cols = ['symboling', 'losses', 'make', 'fuel-type', 'aspiration', 'num-doors',\n",
        "        'body-style', 'drive-wheels', 'engine-location', 'wheel-base',\n",
        "        'length', 'width', 'height', 'weight', 'engine-type', 'num-cylinders',\n",
        "        'engine-size', 'fuel-system', 'bore', 'stroke', 'compression-ratio',\n",
        "        'horsepower', 'peak-rpm', 'city-mpg', 'highway-mpg', 'price']\n",
        "\n",
        "\n",
        "# Load in the data from a CSV file that is comma seperated.\n",
        "car_data = pd.read_csv('https://storage.googleapis.com/ml_universities/cars_dataset/cars_data.csv',\n",
        "                        sep=',', names=cols, header=None, encoding='latin-1')\n",
        "\n",
        "# We'll then randomize the data, just to be sure not to get any pathological\n",
        "# ordering effects that might harm the performance of Stochastic Gradient\n",
        "# Descent.\n",
        "car_data = car_data.reindex(np.random.permutation(car_data.index))"
      ],
      "execution_count": 0,
      "outputs": []
    },
    {
      "metadata": {
        "id": "convert_missing_to_mean_text",
        "colab_type": "text"
      },
      "cell_type": "markdown",
      "source": [
        "### Converting Missing Numerical Values to the Column Mean\n",
        "\n",
        "As you hopefully found in the last exercise, a good option for replacing missing entries (NaN) is to replace them by the column mean.  We do that here."
      ]
    },
    {
      "metadata": {
        "id": "convert_missing_to_mean_code",
        "colab_type": "code",
        "colab": {}
      },
      "cell_type": "code",
      "source": [
        "car_data['price'] = pd.to_numeric(car_data['price'], errors='coerce')\n",
        "car_data['horsepower'] = pd.to_numeric(car_data['horsepower'], errors='coerce')\n",
        "car_data['peak-rpm'] = pd.to_numeric(car_data['peak-rpm'], errors='coerce')\n",
        "car_data['city-mpg'] = pd.to_numeric(car_data['city-mpg'], errors='coerce')\n",
        "car_data['highway-mpg'] = pd.to_numeric(car_data['highway-mpg'], errors='coerce')\n",
        "\n",
        "# Replace nan by the mean storing the solution in the same table (`inplace')\n",
        "car_data.fillna(car_data.mean(), inplace=True)"
      ],
      "execution_count": 0,
      "outputs": []
    },
    {
      "metadata": {
        "id": "build_first_tf_model_text",
        "colab_type": "text"
      },
      "cell_type": "markdown",
      "source": [
        "### Build Your First Tensor Flow Model\n",
        "\n",
        "We now build a model to predict `price`, which will be our label (sometimes also called a target) using `horsepower` as our input feature. To train our model, we'll use the [LinearRegressor](https://www.tensorflow.org/api_docs/python/tf/estimator/LinearRegressor) interface provided by the TensorFlow [Estimator](https://www.tensorflow.org/get_started/estimator) API. This API takes care of a lot of the low-level model plumbing, and exposes convenient methods for performing model training, evaluation, and inference."
      ]
    },
    {
      "metadata": {
        "id": "prepare_features_text",
        "colab_type": "text"
      },
      "cell_type": "markdown",
      "source": [
        "###Prepare Features\n",
        "As our learning models get more sophisticated we will want to do some computation on the features and even generate new features from the existing features. We will see examples of this in later labs.  For now this method will just make a copy of a portion of the dataframe."
      ]
    },
    {
      "metadata": {
        "id": "prepare_features_code",
        "colab_type": "code",
        "colab": {}
      },
      "cell_type": "code",
      "source": [
        "def prepare_features(dataframe):\n",
        "  \"\"\"Prepares the features for provided dataset.\n",
        "\n",
        "  Args:\n",
        "    dataframe: A Pandas DataFrame expected to contain data from the\n",
        "      desired data set.\n",
        "  Returns:\n",
        "    A new dataFrame that contains the features to be used for the model.\n",
        "  \"\"\"\n",
        "  processed_features = dataframe.copy()\n",
        "  return processed_features"
      ],
      "execution_count": 0,
      "outputs": []
    },
    {
      "metadata": {
        "id": "generate_training_examples_text",
        "colab_type": "text"
      },
      "cell_type": "markdown",
      "source": [
        "###Generate the Training Examples\n",
        "We simple call `prepare_features` on the `car_data` dataframe."
      ]
    },
    {
      "metadata": {
        "id": "generate_training_examples_code",
        "colab_type": "code",
        "colab": {}
      },
      "cell_type": "code",
      "source": [
        "training_examples = prepare_features(car_data)"
      ],
      "execution_count": 0,
      "outputs": []
    },
    {
      "metadata": {
        "id": "setting_up_numerical_feature_columns_text",
        "colab_type": "text"
      },
      "cell_type": "markdown",
      "source": [
        "###Setting Up the Feature Columns for TensorFlow\n",
        "\n",
        "In order to import our training data into TensorFlow, we need to specify what type of data each feature contains. There are two main types of data we'll use in this and future exercises:\n",
        "\n",
        "* **Numerical Data**: Data that is a number (integer or float) and that you want to treat as a number. As we will discuss more later sometimes you might want to treat numerical data (e.g., a postal code) as if it were categorical.\n",
        "\n",
        "* **Categorical Data**: Data that is textual such as `make` or 'fuel-type`.\n",
        "\n",
        "In TensorFlow, we indicate a feature's data type using a construct called a **feature column**. Feature columns store only a description of the feature data; they do not contain the feature data itself.\n",
        "\n",
        "For now, we will just use numerical features.  Later you wll learn how to use categorical data."
      ]
    },
    {
      "metadata": {
        "id": "setting_up_numerical_feature_columns_code",
        "colab_type": "code",
        "colab": {}
      },
      "cell_type": "code",
      "source": [
        "NUMERICAL_FEATURES = [\"horsepower\"]\n",
        "\n",
        "def construct_feature_columns():\n",
        "  \"\"\"Construct the TensorFlow Feature Columns.\n",
        "\n",
        "  Returns:\n",
        "    A set of feature columns\n",
        "  \"\"\" \n",
        "  return set([tf.feature_column.numeric_column(feature)\n",
        "              for feature in NUMERICAL_FEATURES])"
      ],
      "execution_count": 0,
      "outputs": []
    },
    {
      "metadata": {
        "id": "input_function_text",
        "colab_type": "text"
      },
      "cell_type": "markdown",
      "source": [
        "### Input Function\n",
        "To import our data into a LinearRegressor, we need to define an input function, which instructs TensorFlow how to preprocess the data, as well as how to batch, shuffle, and repeat it during model training.\n",
        "\n",
        "First, we'll convert our Pandas feature data into a dictionary of NumPy arrays. We can then use the TensorFlow Dataset API to construct a dataset object from our data, and then break our data into batches of batch_size, to be repeated for the specified number of epochs (num_epochs).\n",
        "\n",
        "When the default value of num_epochs=None is passed to repeat(), the input data will be repeated indefinitely.\n",
        "\n",
        "Next, if shuffle is set to True, we'll shuffle the data so that it's passed to the model randomly during training. The buffer_size argument specifies the size of the dataset from which shuffle will randomly sample.\n",
        "\n",
        "Finally, our input function constructs an iterator for the dataset and returns the next batch of data to the LinearRegressor.\n",
        "\n",
        "**NOTE:** We'll continue to use this same input function in later exercises. For more\n",
        "detailed documentation of input functions and the `Dataset` API, see the [TensorFlow Programmer's Guide](https://www.tensorflow.org/programmers_guide/datasets)."
      ]
    },
    {
      "metadata": {
        "id": "input_function_code",
        "colab_type": "code",
        "colab": {}
      },
      "cell_type": "code",
      "source": [
        "def input_fn(features, targets, batch_size=1, shuffle=True, num_epochs=None):\n",
        "    \"\"\"Defines a function to preprocess the data, as well as how to batch,\n",
        "      shuffle, and repeat it during model training..\n",
        "  \n",
        "    Args:\n",
        "      features: pandas DataFrame of features\n",
        "      targets: pandas DataFrame of targets\n",
        "      batch_size: Size of batches to be passed to the model\n",
        "      shuffle: True or False. Whether to shuffle the data.\n",
        "      num_epochs: Number of epochs for which data should be repeated. None = repeat indefinitely\n",
        "    Returns:\n",
        "      Tuple of (features, labels) for next data batch\n",
        "    \"\"\"\n",
        "    \n",
        "    # Convert pandas data into a dict of np arrays.\n",
        "    features = {key:np.array(value) for key,value in dict(features).items()}                                           \n",
        " \n",
        "    # Construct a dataset, and configure batching/repeating.\n",
        "    ds = Dataset.from_tensor_slices((features,targets)) # warning: 2GB limit\n",
        "    ds = ds.batch(batch_size).repeat(num_epochs)\n",
        "    \n",
        "    # Shuffle the data, if specified.\n",
        "    if shuffle:\n",
        "      ds = ds.shuffle(10000)\n",
        "    \n",
        "    # Return the next batch of data.\n",
        "    features, labels = ds.make_one_shot_iterator().get_next()\n",
        "    return features, labels"
      ],
      "execution_count": 0,
      "outputs": []
    },
    {
      "metadata": {
        "id": "train_input_fn_text",
        "colab_type": "text"
      },
      "cell_type": "markdown",
      "source": [
        "### Define Input Functions Using the Training Data\n",
        "\n",
        "We can now use a labda function to create an input function to use when training the model, and one to use when evaluating the model's loss on the training data."
      ]
    },
    {
      "metadata": {
        "id": "train_input_fn_code",
        "colab_type": "code",
        "colab": {}
      },
      "cell_type": "code",
      "source": [
        "NUMERICAL_FEATURES = [\"horsepower\"]\n",
        "CATEGORICAL_FEATURES = []\n",
        "LABEL = \"price\"  \n",
        "\n",
        "# Here we define an input functon that uses the training examples generating\n",
        "# batches of 10 examples\n",
        "training_input_fn = lambda: input_fn(\n",
        "    training_examples[NUMERICAL_FEATURES], training_examples[LABEL], \n",
        "    batch_size=10)\n",
        "\n",
        "# Here we define an input function that will compute the loss over the entire\n",
        "# training set.\n",
        "predict_training_input_fn = lambda: input_fn(\n",
        "    training_examples[NUMERICAL_FEATURES], training_examples[LABEL], \n",
        "    num_epochs=1, shuffle=False)"
      ],
      "execution_count": 0,
      "outputs": []
    },
    {
      "metadata": {
        "id": "configure_linear_regressor_text",
        "colab_type": "text"
      },
      "cell_type": "markdown",
      "source": [
        "###Configure the LinearRegressor\n",
        "\n",
        "Next, we'll configure a linear regression model using LinearRegressor. We'll train this model using the `GradientDescentOptimizer`, which implements Mini-Batch Stochastic Gradient Descent (SGD). The `learning_rate` argument controls the size of the gradient step.\n",
        "\n",
        "**NOTE:** To be safe, we also apply [gradient clipping](https://developers.google.com/machine-learning/glossary/#gradient_clipping) to our optimizer via `clip_gradients_by_norm`. Gradient clipping ensures the magnitude of the gradients do not become too large during training, which can cause gradient descent to fail. "
      ]
    },
    {
      "metadata": {
        "id": "configure_linear_regressor_code",
        "colab_type": "code",
        "colab": {}
      },
      "cell_type": "code",
      "source": [
        "def define_linear_regression_model(learning_rate):\n",
        "  \"\"\" Defines a linear regression model of one feature to predict the target.\n",
        "  \n",
        "  Args:\n",
        "    learning_rate: A `float`, the learning rate\n",
        "    batch_size: A non-zero `int`, the batch size.\n",
        "    \n",
        "  Returns:\n",
        "    A linear regressor created with the given parameters\n",
        "  \"\"\"\n",
        "  \n",
        "  optimizer=tf.train.GradientDescentOptimizer(learning_rate=learning_rate)\n",
        "  optimizer = tf.contrib.estimator.clip_gradients_by_norm(optimizer, 5.0)\n",
        "  linear_regressor = tf.estimator.LinearRegressor(\n",
        "    feature_columns=construct_feature_columns(),\n",
        "    optimizer=optimizer\n",
        "  )  \n",
        "  return linear_regressor"
      ],
      "execution_count": 0,
      "outputs": []
    },
    {
      "metadata": {
        "id": "train_model_text",
        "colab_type": "text"
      },
      "cell_type": "markdown",
      "source": [
        "##Train the Model\n",
        "\n",
        "We now have all the pieces we need to train a model.  In order to generate intermediate losses for the learning curve (and record as we are training), we divide the training into 10 periods.  After each period we compute the loss.  We also store the weight and bias of the model at that time so that we can then visually show how the model evolves in a scatter plot.  You are welcome to modify the number of periods but 10 seems to work out pretty well."
      ]
    },
    {
      "metadata": {
        "id": "train_model_code",
        "colab_type": "code",
        "colab": {}
      },
      "cell_type": "code",
      "source": [
        "NUMERICAL_FEATURES = [\"horsepower\"]\n",
        "CATEGORICAL_FEATURES = []\n",
        "LABEL = \"price\"\n",
        "BATCH_SIZE = 100\n",
        "\n",
        "# Create regression model using the define_regression_model procedure that we\n",
        "# defined earlier.\n",
        "linear_regressor = define_linear_regression_model(learning_rate = 1)\n",
        "\n",
        "train_input_fn = lambda: input_fn(training_examples[NUMERICAL_FEATURES], \n",
        "                                  training_examples[LABEL], \n",
        "                                  batch_size=50)\n",
        "# Train the predictor using 100 steps through the data.\n",
        "_ = linear_regressor.train(\n",
        "      input_fn=train_input_fn, steps=100\n",
        ")"
      ],
      "execution_count": 0,
      "outputs": []
    },
    {
      "metadata": {
        "id": "evaluate_model_text",
        "colab_type": "text"
      },
      "cell_type": "markdown",
      "source": [
        "### Evaluate the Model\n",
        "\n",
        "Let's make predictions on that training data, to see how well our model fit it during training.\n",
        "\n",
        "**NOTE:** Training error measures how well your model fits the training data, but it **_does not_** measure how well your model **_generalizes to new data_**. In later exercises, you'll explore how to split your data to evaluate your model's ability to generalize.\n"
      ]
    },
    {
      "metadata": {
        "id": "evaluate_model_code",
        "colab_type": "code",
        "colab": {
          "base_uri": "https://localhost:8080/",
          "height": 51
        },
        "outputId": "8db2847e-36d5-4058-a4c0-e6c02d0fe134"
      },
      "cell_type": "code",
      "source": [
        "features = training_examples[NUMERICAL_FEATURES]\n",
        "targets = training_examples[LABEL]\n",
        "training_predict_input_fn = lambda: input_fn(\n",
        "    features, targets, num_epochs=1, shuffle=False)\n",
        "\n",
        "# Call predict() on the linear_regressor to make predictions.\n",
        "predictions = linear_regressor.predict(input_fn=training_predict_input_fn)\n",
        "\n",
        "# Format predictions as a NumPy array, so we can calculate error metrics.\n",
        "predictions = np.array([item['predictions'][0] for item in predictions])\n",
        "\n",
        "# Print Mean Squared Error and Root Mean Squared Error.\n",
        "mean_squared_error = metrics.mean_squared_error(predictions, targets)\n",
        "root_mean_squared_error = math.sqrt(mean_squared_error)\n",
        "print(\"Mean Squared Error (on training data): %0.3f\" % mean_squared_error)\n",
        "print(\"Root Mean Squared Error (on training data): %0.3f\" % root_mean_squared_error)"
      ],
      "execution_count": 14,
      "outputs": [
        {
          "output_type": "stream",
          "text": [
            "Mean Squared Error (on training data): 27016431.074\n",
            "Root Mean Squared Error (on training data): 5197.733\n"
          ],
          "name": "stdout"
        }
      ]
    },
    {
      "metadata": {
        "id": "compute_loss_text",
        "colab_type": "text"
      },
      "cell_type": "markdown",
      "source": [
        "## Computing the Loss\n",
        "For now we are using root mean squared error (RMSE) for our loss since that is the appropriate loss to use for linear regression.  However, to keep the procedure to train the model very generic, we will use a method compute loss that can be tailored to other types of problems. For this lab, our implementation will be to return the RMSE.\n"
      ]
    },
    {
      "metadata": {
        "id": "compute_loss_code",
        "colab_type": "code",
        "colab": {}
      },
      "cell_type": "code",
      "source": [
        "def compute_loss(predictions, targets):\n",
        "  \"\"\" Computes the loss (RMSE) for linear regression.\n",
        "  \n",
        "  Args:\n",
        "    predictions: a list of values predicted by the model being visualized\n",
        "    targets: a list of the target values being predicted that must be the\n",
        "             same size as predictions.\n",
        "    \n",
        "  Returns:\n",
        "    The RMSE for the provided predictions and targets\n",
        "  \"\"\"      \n",
        "  return math.sqrt(metrics.mean_squared_error(predictions, targets))"
      ],
      "execution_count": 0,
      "outputs": []
    },
    {
      "metadata": {
        "id": "learning_curve_text",
        "colab_type": "text"
      },
      "cell_type": "markdown",
      "source": [
        "##Learning Curve\n",
        "\n",
        "Another important tool is a graph often called a **learning curve** that shows the loss being minimized on the y-axis and the training steps (time) on the x-axis.  Looking at the learning curve will help you understand if you have set the `learning_rate` too high or too low, how many `steps` you need to train and other things that we'll explore later.  \n",
        "\n",
        "Next we define a method to plot the learning curve given a list of training losses that will be recorded at regular intervals during training."
      ]
    },
    {
      "metadata": {
        "id": "learning_curve_code",
        "colab_type": "code",
        "colab": {}
      },
      "cell_type": "code",
      "source": [
        "def plot_learning_curve(training_losses):\n",
        "  \"\"\" Plot the learning curve\n",
        "  \n",
        "  Args:\n",
        "    training_loses: a list of losses to plot\n",
        "  \"\"\"        \n",
        "  plt.ylabel('Loss')\n",
        "  plt.xlabel('Training Steps')\n",
        "  plt.plot(training_losses)"
      ],
      "execution_count": 0,
      "outputs": []
    },
    {
      "metadata": {
        "id": "multiple_features_text",
        "colab_type": "text"
      },
      "cell_type": "markdown",
      "source": [
        "###Learning Using Multiple Numerical Features and Featuring Scaling\n",
        "\n",
        "We now being to explore some of the issues that can occur when using multiple numerical features, and how we can adress them.  Let's start by plotting a histogram of price, highway-mpg and city-mpg to help understand the data we are using to train our model to predict city-mpg."
      ]
    },
    {
      "metadata": {
        "id": "multiple_features_code",
        "colab_type": "code",
        "colab": {
          "base_uri": "https://localhost:8080/",
          "height": 335
        },
        "outputId": "cdcdb327-3756-4893-e88b-32541a0c0ad6"
      },
      "cell_type": "code",
      "source": [
        "plt.figure(figsize=(20, 5))\n",
        "plt.subplot(1, 3, 1)\n",
        "plt.title(\"price\")\n",
        "histogram = car_data[\"price\"].hist(bins=50)\n",
        "\n",
        "plt.subplot(1, 3, 2)\n",
        "plt.title(\"highway-mpg\")\n",
        "histogram = car_data[\"highway-mpg\"].hist(bins=50)\n",
        "\n",
        "\n",
        "plt.subplot(1, 3, 3)\n",
        "plt.title(\"city-mpg\")\n",
        "histogram = car_data[\"city-mpg\"].hist(bins=50)"
      ],
      "execution_count": 17,
      "outputs": [
        {
          "output_type": "display_data",
          "data": {
            "image/png": "[encoded data removed]",
            "text/plain": [
              "<matplotlib.figure.Figure at 0x7fd1c52398d0>"
            ]
          },
          "metadata": {
            "tags": []
          }
        }
      ]
    },
    {
      "metadata": {
        "id": "calibration_plot_text",
        "colab_type": "text"
      },
      "cell_type": "markdown",
      "source": [
        "###Visualizing Our Model Via a Calibration Plot\n",
        "\n",
        "When we just use a single input feature, we can visualize the data and the learned model very well with **scater plot**.  In order to help understand higher-dimensional models, a **calibration plot** is very useful. A calibration plot is similar to a scatter plot of the data except this can be used for any linear model since it just plots the target with respec to the predictions. Observe that a model with an RMSE of 0 would have all points on the line target = prediction.  For points that are under the line, we are overpredicting and points over the line we are underpredicting.  This method shows the line target = prediction to help visualize how well the model is doing.\n",
        "\n",
        "Observe that unlike in the scatter plot where the points are fixed and the model (as viewed as a line changes), in the callibration plot the x-coordinate of the points change as the model is trained."
      ]
    },
    {
      "metadata": {
        "id": "calibration_plot_code",
        "colab_type": "code",
        "colab": {}
      },
      "cell_type": "code",
      "source": [
        "def calibration_plot(predictions, targets):\n",
        "  \"\"\" Creates a calibration plot.\n",
        "  \n",
        "  Args:\n",
        "    predictions: a list of values predicted by the model being visualized\n",
        "    targets: a list of the target values being predicted that must be the\n",
        "             same size as predictions.\n",
        "  \"\"\"  \n",
        "  calibration_data = pd.DataFrame()\n",
        "  calibration_data[\"predictions\"] = pd.Series(predictions)\n",
        "  calibration_data[\"targets\"] = pd.Series(targets)\n",
        "  calibration_data.describe()\n",
        "  min_val = calibration_data[\"predictions\"].min()\n",
        "  max_val = calibration_data[\"predictions\"].max()\n",
        "  plt.ylabel(\"target\")\n",
        "  plt.xlabel(\"prediction\")\n",
        "  plt.scatter(predictions, targets, color='black')\n",
        "  plt.plot([min_val, max_val], [min_val, max_val])"
      ],
      "execution_count": 0,
      "outputs": []
    },
    {
      "metadata": {
        "id": "not_good_model_text",
        "colab_type": "text"
      },
      "cell_type": "markdown",
      "source": [
        "Notice that the model we have trained so far is not very good and you can see this when looking at the calibration plot. Your first task will be to improve this model.  "
      ]
    },
    {
      "metadata": {
        "id": "studying_calibration_plot_text",
        "colab_type": "text"
      },
      "cell_type": "markdown",
      "source": [
        "## Exercise: Studying a Calibration Plot (1 point)\n",
        "\n",
        "The code box below generates a calibration plot for this model.  How does it look compared to the scatter plot?  Explain what you are seeing and why it is this way."
      ]
    },
    {
      "metadata": {
        "id": "studying_calibration_plot_code",
        "colab_type": "code",
        "colab": {
          "base_uri": "https://localhost:8080/",
          "height": 361
        },
        "outputId": "2c14e403-ae75-417d-978f-58451639fbc0"
      },
      "cell_type": "code",
      "source": [
        "# Call predict() on the linear_regressor to make predictions.\n",
        "training_predict_input_fn = lambda: input_fn(\n",
        "    training_examples[NUMERICAL_FEATURES], \n",
        "    training_examples[LABEL], num_epochs=1, shuffle=False)\n",
        "predictions = linear_regressor.predict(input_fn=training_predict_input_fn)\n",
        "predictions = np.array([item['predictions'][0] for item in predictions])\n",
        "calibration_plot(predictions, car_data[LABEL].values)\n",
        "\n"
      ],
      "execution_count": 19,
      "outputs": [
        {
          "output_type": "display_data",
          "data": {
            "image/png": "[encoded data removed]",
            "text/plain": [
              "<matplotlib.figure.Figure at 0x7fd1c4df7a20>"
            ]
          },
          "metadata": {
            "tags": []
          }
        }
      ]
    },
    {
      "metadata": {
        "id": "exercise_calibration_plot",
        "colab_type": "code",
        "colab": {
          "base_uri": "https://localhost:8080/",
          "height": 54
        },
        "outputId": "87b53928-15b7-4f41-9dba-853c53d0a2d8"
      },
      "cell_type": "code",
      "source": [
        "\"\"\"\n",
        "Explain the relationship you are seeing between the scatter plot and calibration\n",
        "plot, and why this is the case.\n",
        "\n",
        "1. In this calibration plot I am seeing that both axis are the labels of the data\n",
        "one is the actual correct value and the other one is the prediction. I am viewing \n",
        "how well are my predictions vs in the scatter plot I get to see how well the model\n",
        "is fitting the data. In the calibration plot we can observe if we actually \n",
        "underpredicted a value (if its on the upper part) and if we overpredictted a value\n",
        "(if its on the lower part). The calibration plot gives you the opportunity to\n",
        "view if your model is predicting well and this is because it compares how \n",
        "far away is our prediction from the actual value. The scatter plot will only help\n",
        "us visualize one dimension linear models but with the calibration plot\n",
        "we can use it for 3D and over because it is only comparing the labels as mentioned \n",
        "before. \n",
        "\n",
        "In this particular plot I could observe that the model best predicts for car \n",
        "prices that range between 5,000 - 15,000 because the data points are closer\n",
        "to the line of prediction. But the model does not predict well for items that \n",
        "range from 15,000 up we know this because of the distance between the data\n",
        "points and the line. Thus, making it not the optimal or best model to \n",
        "predict our data.\n",
        "\n",
        "\n",
        "\"\"\""
      ],
      "execution_count": 20,
      "outputs": [
        {
          "output_type": "execute_result",
          "data": {
            "text/plain": [
              "'\\nExplain the relationship you are seeing between the scatter plot and calibration\\nplot, and why this is the case.\\n\\nTYPE YOUR ANSWER IN THIS COMMENT\\n\\n\\nI DO NOT UNDERSTAND DE DIFFERENCE \\n\\n\\n'"
            ]
          },
          "metadata": {
            "tags": []
          },
          "execution_count": 20
        }
      ]
    },
    {
      "metadata": {
        "id": "study_our_data_text",
        "colab_type": "text"
      },
      "cell_type": "markdown",
      "source": [
        "### Studying Our Data\n",
        "\n",
        "It is always valuable to understand you data.  Let's look at a histogram showing the values of `price`, `highway-mpg`, and `city-mpg`"
      ]
    },
    {
      "metadata": {
        "id": "study_our_data_code",
        "colab_type": "code",
        "colab": {
          "base_uri": "https://localhost:8080/",
          "height": 335
        },
        "outputId": "580ba144-3a4a-4d4a-cecc-6627d1713884"
      },
      "cell_type": "code",
      "source": [
        "plt.figure(figsize=(20, 5))\n",
        "plt.subplot(1, 3, 1)\n",
        "plt.title(\"price\")\n",
        "histogram = car_data[\"price\"].hist(bins=50)\n",
        "\n",
        "plt.subplot(1, 3, 2)\n",
        "plt.title(\"highway-mpg\")\n",
        "histogram = car_data[\"highway-mpg\"].hist(bins=50)\n",
        "\n",
        "\n",
        "plt.subplot(1, 3, 3)\n",
        "plt.title(\"city-mpg\")\n",
        "histogram = car_data[\"city-mpg\"].hist(bins=50)"
      ],
      "execution_count": 21,
      "outputs": [
        {
          "output_type": "display_data",
          "data": {
            "image/png": "[encoded data removed]",
            "text/plain": [
              "<matplotlib.figure.Figure at 0x7fd1c4daef98>"
            ]
          },
          "metadata": {
            "tags": []
          }
        }
      ]
    },
    {
      "metadata": {
        "id": "train_model_two_features_text",
        "colab_type": "text"
      },
      "cell_type": "markdown",
      "source": [
        "##Exercise: Train a Model Using Multiple Features (2 points)\n",
        "\n",
        "The focus on this section is learning some of the issues that arise,  and how to address them when you train a model with multiple features.  The first task is to train a model to predict `city-mpg` from `highway-mpg` and `price` without using any feature processing.  Remember what you learned in the last lab about how to find a good learning rate and numer of steps to train."
      ]
    },
    {
      "metadata": {
        "id": "train_model_function_text",
        "colab_type": "text"
      },
      "cell_type": "markdown",
      "source": [
        "### Function to train a model\n",
        "\n",
        "We provide a method that trains a linear model using any set of features that breaks the learning up into 10 periods, and shows the learning curve and calibration plot after training the model."
      ]
    },
    {
      "metadata": {
        "id": "train_model_function_code",
        "colab_type": "code",
        "colab": {}
      },
      "cell_type": "code",
      "source": [
        "# Function to train any linear model using a calibration plot to help visualize\n",
        "# the final model\n",
        "\n",
        "def train_model(linear_regressor, features, labels, steps, batch_size):\n",
        "  \"\"\"Trains a linear regression model.\n",
        "  \n",
        "  Args:\n",
        "    linear_regressor: The regressor to train\n",
        "    features: The input features to use\n",
        "    label: the labels\n",
        "    steps: A non-zero `int`, the total number of training steps.\n",
        "    batch_size: A non-zero `int`, the batch size.\n",
        "    \n",
        "  Returns:\n",
        "    The trained regressor\n",
        "  \"\"\"\n",
        "  # In order to see how the model evolves as we train it, we will divide the\n",
        "  # steps into periods and show the model after each period.\n",
        "  periods = 10\n",
        "  steps_per_period = steps / periods\n",
        "  \n",
        "  # Set up the training_input_fn and predict_training_input_fn\n",
        "  training_input_fn = lambda: input_fn(features, labels, batch_size=batch_size)\n",
        "  predict_training_input_fn = lambda: input_fn(features, labels, num_epochs=1,\n",
        "                                               shuffle=False)\n",
        "  \n",
        "  # Train the model, but do so inside a loop so that we can periodically assess\n",
        "  # loss metrics.  We store the training losses to generate the training curve\n",
        "  print(\"Training model...\")\n",
        "  training_losses = []\n",
        "\n",
        "  for period in range (0, periods):\n",
        "    # Call fit to train the regressor for steps_per_period steps\n",
        "    _ = linear_regressor.train(input_fn=training_input_fn, steps=steps_per_period)\n",
        "\n",
        "    # Use the predict method to compute the predictions from the current model\n",
        "    predictions = linear_regressor.predict(input_fn=predict_training_input_fn)\n",
        "    predictions = np.array([item['predictions'][0] for item in predictions])\n",
        "   \n",
        "    # Compute the loss between the predictions and the correct labels, append\n",
        "    # the loss to the list of losses used to generate the learning curve after\n",
        "    # training is complete and print the current loss\n",
        "    loss = compute_loss(predictions, labels)\n",
        "    training_losses.append(loss) \n",
        "    print(\"  Loss after period %02d : %0.3f\" % (period, loss))\n",
        "      \n",
        "  # Now that training is done print the final loss    \n",
        "  print(\"Final Loss (RMSE) on the training data: %0.3f\" % loss) \n",
        "  \n",
        "  # Generate a figure with the learning curve on the left and either a scatter\n",
        "  # plot or calibration plot (when more than 2 input features) on the right\n",
        "  plt.figure(figsize=(10, 5))\n",
        "  plt.subplot(1, 2, 1)\n",
        "  plt.title(\"Learning Curve (RMSE vs time)\")\n",
        "  plot_learning_curve(training_losses)\n",
        "  plt.subplot(1, 2, 2)\n",
        "  plt.tight_layout(pad=1.1, w_pad=3.0, h_pad=3.0)\n",
        "  plt.title(\"Calibration Plot\")\n",
        "  calibration_plot(predictions, labels)\n",
        "   \n",
        "  return linear_regressor"
      ],
      "execution_count": 0,
      "outputs": []
    },
    {
      "metadata": {
        "id": "exercise_train_model_two_features",
        "colab_type": "code",
        "colab": {
          "base_uri": "https://localhost:8080/",
          "height": 569
        },
        "outputId": "84640f19-adcf-41e8-ddb5-f14138595933"
      },
      "cell_type": "code",
      "source": [
        "NUMERICAL_FEATURES = [\"price\", \"highway-mpg\"]\n",
        "CATEGORICAL_FEATURES = []\n",
        "LABEL = \"city-mpg\"\n",
        "\n",
        "# Adjust these hyperparameters\n",
        "LEARNING_RATE = .00519\n",
        "STEPS = 60000\n",
        "BATCH_SIZE = 50\n",
        "\n",
        "linear_regressor = define_linear_regression_model(learning_rate = LEARNING_RATE)\n",
        "linear_regressor = train_model(linear_regressor,\n",
        "                               training_examples[NUMERICAL_FEATURES],\n",
        "                               training_examples[LABEL],\n",
        "                               batch_size=BATCH_SIZE, steps=STEPS)"
      ],
      "execution_count": 23,
      "outputs": [
        {
          "output_type": "stream",
          "text": [
            "Training model...\n",
            "  Loss after period 00 : 25.443\n",
            "  Loss after period 01 : 24.960\n",
            "  Loss after period 02 : 24.573\n",
            "  Loss after period 03 : 24.266\n",
            "  Loss after period 04 : 24.008\n",
            "  Loss after period 05 : 23.798\n",
            "  Loss after period 06 : 23.642\n",
            "  Loss after period 07 : 23.506\n",
            "  Loss after period 08 : 23.405\n",
            "  Loss after period 09 : 23.322\n",
            "Final Loss (RMSE) on the training data: 23.322\n"
          ],
          "name": "stdout"
        },
        {
          "output_type": "display_data",
          "data": {
            "image/png": "[encoded data removed]",
            "text/plain": [
              "<matplotlib.figure.Figure at 0x7fd1c7419748>"
            ]
          },
          "metadata": {
            "tags": []
          }
        }
      ]
    },
    {
      "metadata": {
        "id": "view_weights_text",
        "colab_type": "text"
      },
      "cell_type": "markdown",
      "source": [
        "Let's look at the model weights learned."
      ]
    },
    {
      "metadata": {
        "id": "view_weights_code",
        "colab_type": "code",
        "colab": {
          "base_uri": "https://localhost:8080/",
          "height": 68
        },
        "outputId": "39f4fffb-31d5-46ac-c6eb-ee925435c116"
      },
      "cell_type": "code",
      "source": [
        "print(\"weight for price:\", linear_regressor.get_variable_value(\n",
        "    \"linear/linear_model/price/weights\")[0])\n",
        "print(\"weight for highway-mpg:\", linear_regressor.get_variable_value(\n",
        "    \"linear/linear_model/highway-mpg/weights\")[0])\n",
        "print(\"bias:\",  linear_regressor.get_variable_value(\"linear/linear_model/bias_weights\"))"
      ],
      "execution_count": 24,
      "outputs": [
        {
          "output_type": "stream",
          "text": [
            "weight for price: [-0.00103094]\n",
            "weight for highway-mpg: [0.53658396]\n",
            "bias: [0.01279595]\n"
          ],
          "name": "stdout"
        }
      ]
    },
    {
      "metadata": {
        "id": "think_about_weights_exercise",
        "colab_type": "text"
      },
      "cell_type": "markdown",
      "source": [
        "### Think about these questions \n",
        "\n",
        "* Look at the weight for the two variables.  Do they match what you'd expect to see?\n",
        "* Given that `highway-mpg` is well correlated with `city-mpg`, what is it you see in the histograms that might explain why it was hard to train the model?\n",
        "* For linear regression it is important that all of the features are roughly in the same range so that a priori they are treated as equally important.  How does the range of the price compare to the highway mpg, and what effect might this have when training the model?\n"
      ]
    },
    {
      "metadata": {
        "id": "think_about_weights_code_box",
        "colab_type": "code",
        "colab": {
          "base_uri": "https://localhost:8080/",
          "height": 54
        },
        "outputId": "3e93f271-33c1-4fbe-d170-08c74f25a2f2"
      },
      "cell_type": "code",
      "source": [
        "\"\"\"\n",
        "TYPE YOUR ANSWERS TO THE QUESTIONS HERE\n",
        "1. No, they do not match what I would expect to see as a prediction line. My\n",
        "  hypothesis is that I would assume that since the highway-mpg and city-mpg\n",
        "  have a better correlation the highway-mpg would have a higher weight in the model.\n",
        "2.  I can observe that the histogram of price has bigger values. But that the \n",
        "  city-mpg and highway-mpg are pretty similitar in terms of scale. For \n",
        "  example the highway-mpg and city-mpg only goes to up to 55 versus the price \n",
        "  which goes up to 45,000. When putting up into the equation y' = w1x1 + w2x2 + b \n",
        "  the number of price will dominate in the equation and the model will forget \n",
        "  or disregard the most important feature which is higway-mpg.\n",
        "3. As mentioned before the price range goes up to 45,000 versus the highway-mpg\n",
        "  goes up to 45 thus making the price dominate in the equation ignoring the \n",
        "  highway-mpg. And while training it will basically not take into consideration\n",
        "  the highway-mpg.\n",
        "\"\"\""
      ],
      "execution_count": 25,
      "outputs": [
        {
          "output_type": "execute_result",
          "data": {
            "text/plain": [
              "\"\\nTYPE YOUR ANSWERS TO THE QUESTIONS HERE\\n1. No, they do not match what I would expect to see as a prediction line. My\\n  hypothesis is that I noticed the weight of the price for the data is negative \\n  when the target data is in the positive axis. By having one of the weights \\n  negative we are subtracting to the model.\\n2.  I can observe that the histogram of price has bigger values. For \\n  example the highway-mpg only goes to up to 55 versus the price which goes up\\n  to 45,000. When putting up into the equation y' = w1x1 + w2x2 + b the number \\n  of price will dominate in the equation and the model will forget or disregard\\n  the most important feature which is higway-mpg.\\n3. As mentioned before the price range goes up to 45,000 versus the highway-mpg\\n  goes up to 45 thus making the price dominate in the equation ignoring the \\n  highway-mpg. And while training it will basically not take into consideration\\n  the highway-mpg.\\n\""
            ]
          },
          "metadata": {
            "tags": []
          },
          "execution_count": 25
        }
      ]
    },
    {
      "metadata": {
        "id": "exercise_linear_scaling_text",
        "colab_type": "text"
      },
      "cell_type": "markdown",
      "source": [
        "## Exercise: Write a Linear Scaling Function (1 point)\n",
        "\n",
        "There are two characteristics we'd like of numerical features when used together to train a linear model\n",
        "* The range of the features is roughly the same\n",
        "* To the extent possible the histogram of the features kind of resembles a bell curve.  Sometimes the data will fit this very well and other times it won't.\n",
        "\n",
        "As you've already seen in the code, you can take a Pandas column (e.g. `car_data['price']`) and find the min value with `car_data['price'].min()` and likewise find the max with `car_data['price'].max()`. Note that you can use a lambda function to apply `f(x)` to all entries `x` in a Pandas column `feature` using.\n",
        "```\n",
        "   feature.apply(lambda x: f(x))\n",
        "```\n",
        "\n",
        "To provide an example of feature transformation, we have provided an implementation for log scaling.  Note that we take the log of x+1 for column value of x so that we are always taking the log of a number greater than 0 since log 0 is not defined. In this data all values are at least 0, so log(x+1) is well defined.\n",
        "\n",
        "You are to complete the implementation of `linear_scale`, in which you simply stretch/compress and shift the features linearly to fall into the interval [0,1]. The minimum value that occurs will map to 0, the maximum value that occurs will map to 1, (min + max)/2 will map to 0.5, and so on.  You will need to make sure that your output from `linear_scale` is a real number (versus an integer). Be sure to test your function on some examples.  For example if the input series originally had values going from 10 to 20, then after applying linear scale 10 should map to 0, 11 should map to 1, 12 should map to 2, ... and so on with 20 mapping to 1."
      ]
    },
    {
      "metadata": {
        "id": "exercise_linear_scaling_code_box",
        "colab_type": "code",
        "colab": {}
      },
      "cell_type": "code",
      "source": [
        "# Perform log scaling\n",
        "def log_scale(series):\n",
        "  return series.apply(lambda x:math.log(x+1.0))\n",
        "\n",
        "# Linearly rescales to the range [0, 1]\n",
        "# You need to write this function.  Right now it just returns the same series.\n",
        "def linear_scale(series):\n",
        "  # add any additional lines of code needed\n",
        "  return series.apply(lambda x: (x-series.min())/(series.max()-series.min()))"
      ],
      "execution_count": 0,
      "outputs": []
    },
    {
      "metadata": {
        "id": "test_scaling_text",
        "colab_type": "text"
      },
      "cell_type": "markdown",
      "source": [
        "**Test your scaling procedure** with the following code block that applies these two scaling methods to `price` and `highway-mpg` and then draws a histogram for each."
      ]
    },
    {
      "metadata": {
        "id": "test_scaling_code",
        "colab_type": "code",
        "colab": {
          "base_uri": "https://localhost:8080/",
          "height": 543
        },
        "outputId": "cbf65056-75c9-43d0-daba-e79c5d4b3ba6"
      },
      "cell_type": "code",
      "source": [
        "def draw_histograms(feature_name):\n",
        "  plt.figure(figsize=(20, 4))\n",
        "  plt.subplot(1, 3, 1)\n",
        "  plt.title(feature_name)\n",
        "  histogram = car_data[feature_name].hist(bins=50)\n",
        "\n",
        "  plt.subplot(1, 3, 2)\n",
        "  plt.title(\"linear_scaling\")\n",
        "  scaled_features = pd.DataFrame()\n",
        "  scaled_features[feature_name] = linear_scale(car_data[feature_name])\n",
        "  histogram = scaled_features[feature_name].hist(bins=50)\n",
        "  \n",
        "  plt.subplot(1, 3, 3)\n",
        "  plt.title(\"log scaling\")\n",
        "  log_normalized_features = pd.DataFrame()\n",
        "  log_normalized_features[feature_name] = log_scale(car_data[feature_name])\n",
        "  histogram = log_normalized_features[feature_name].hist(bins=50)\n",
        "  \n",
        "draw_histograms(\"price\")\n",
        "draw_histograms(\"highway-mpg\")"
      ],
      "execution_count": 46,
      "outputs": [
        {
          "output_type": "display_data",
          "data": {
            "image/png": "[encoded data removed]",
            "text/plain": [
              "<matplotlib.figure.Figure at 0x7fd1c74da208>"
            ]
          },
          "metadata": {
            "tags": []
          }
        },
        {
          "output_type": "display_data",
          "data": {
            "image/png": "[encoded data removed]",
            "text/plain": [
              "<matplotlib.figure.Figure at 0x7fd1c4e262e8>"
            ]
          },
          "metadata": {
            "tags": []
          }
        }
      ]
    },
    {
      "metadata": {
        "id": "train_with_transformed_features_text",
        "colab_type": "text"
      },
      "cell_type": "markdown",
      "source": [
        "##Exercise: Training the Model Using the Transformed Features (2 points)\n",
        "\n",
        "Modify `prepare_features` to apply linear scaling to `price` and `highway-mpg` and then train the best model you can. **Do not modify the target feature so that the RMSE can be compared to the model you trained in Task 2 and also you want your predictions to be in the correct range**.\n",
        "\n",
        "NOTE: It is possible that if your learning rate is too high you will converge to a solution that is not optimal since you are overshotting and then undershooting the best feature weights as you get close to the optimal solution.  So when looking at the scatter plot, if you converge to a model that is not good, try a slightly smaller learning rate.\n",
        "\n"
      ]
    },
    {
      "metadata": {
        "id": "train_with_transformed_features_code",
        "colab_type": "code",
        "colab": {}
      },
      "cell_type": "code",
      "source": [
        "def prepare_features(dataframe,feature_names=[]):\n",
        "  \"\"\"Prepares the features for provided dataset.\n",
        "\n",
        "  Args:\n",
        "    dataframe: A Pandas DataFrame expected to contain data from the\n",
        "      desired data set.\n",
        "    feature_names: The names of the features to linearize\n",
        "  Returns:\n",
        "    A new dataFrame that contains the features to be used for the model.\n",
        "  \"\"\"\n",
        "  processed_features = dataframe.copy()\n",
        "  for feature in feature_names:\n",
        "    processed_features[feature] = linear_scale(processed_features[feature])\n",
        "\n",
        "\n",
        "  \"\"\"\n",
        "  At first I performed just hardcoding the features to be linearized\n",
        "  But its better if I modify the methods arguments so the user can input \n",
        "  several data as parameter and implementation would not have to change in case\n",
        "  of needing to add another feature to perform linear scaling on.\n",
        "  processed_features[\"price\"] = linear_scale(processed_features[\"price\"])\n",
        "  processed_features[\"highway-mpg\"] = linear_scale(processed_features[\"highway-mpg\"])\n",
        "\"\"\"\n",
        "  # Fill in what you want to do here.\n",
        "  \n",
        "  return processed_features"
      ],
      "execution_count": 0,
      "outputs": []
    },
    {
      "metadata": {
        "id": "view_transformed_histograms_text",
        "colab_type": "text"
      },
      "cell_type": "markdown",
      "source": [
        "Let's look at the histograms after the feature transformations to ensure it looks as expected."
      ]
    },
    {
      "metadata": {
        "id": "view_transformed_histograms",
        "colab_type": "code",
        "colab": {
          "base_uri": "https://localhost:8080/",
          "height": 280
        },
        "outputId": "62c5c1b3-9216-4c06-f09b-2c346ffef134"
      },
      "cell_type": "code",
      "source": [
        "\"\"\"\n",
        "  After preparing the training examples by using the linear scaling \n",
        "  method for price and highway  \n",
        "\"\"\"\n",
        "\n",
        "training_examples = prepare_features(car_data,[\"highway-mpg\",\"price\"])\n",
        "plt.figure(figsize=(20, 4))\n",
        "plt.subplot(1,3,1)\n",
        "plt.title(\"Highway-mpg\")\n",
        "histogram = training_examples[\"highway-mpg\"].hist(bins=50)\n",
        "plt.subplot(1,3,2)\n",
        "plt.title(\"Price\")\n",
        "histogram = training_examples[\"price\"].hist(bins=50)\n",
        "\n",
        "\"\"\"\n",
        "  This is the target. I just wanted to check and verify that I did not changed its \n",
        "  properties.\n",
        "\"\"\"\n",
        "plt.subplot(1,3,3)\n",
        "plt.title(\"City-mpg target\")\n",
        "histogram = training_examples[\"city-mpg\"].hist(bins=50)"
      ],
      "execution_count": 62,
      "outputs": [
        {
          "output_type": "display_data",
          "data": {
            "image/png": "[encoded data removed]",
            "text/plain": [
              "<matplotlib.figure.Figure at 0x7fd1c2601be0>"
            ]
          },
          "metadata": {
            "tags": []
          }
        }
      ]
    },
    {
      "metadata": {
        "id": "train_two_variable_model_text",
        "colab_type": "text"
      },
      "cell_type": "markdown",
      "source": [
        "Now let's train a model.  You should find that you can get a lot better model after the feature transformations have been applied."
      ]
    },
    {
      "metadata": {
        "id": "train_two_variable_model_code",
        "colab_type": "code",
        "colab": {
          "base_uri": "https://localhost:8080/",
          "height": 569
        },
        "outputId": "8dbd8f70-752f-47f6-a158-0b2c2fea2448"
      },
      "cell_type": "code",
      "source": [
        "NUMERICAL_FEATURES = [\"price\", \"highway-mpg\"]\n",
        "CATEGORICAL_FEATURES = []\n",
        "LABEL = \"city-mpg\"\n",
        "\n",
        "# Fill in the rest of the code block to train a model and view the model\n",
        "# weights.\n",
        "# Adjust these hyperparameters\n",
        "LEARNING_RATE = .002\n",
        "STEPS = 10000\n",
        "BATCH_SIZE = 50\n",
        "\n",
        "linear_regressor = define_linear_regression_model(learning_rate = LEARNING_RATE)\n",
        "linear_regressor = train_model(linear_regressor,\n",
        "                               training_examples[NUMERICAL_FEATURES],\n",
        "                               training_examples[LABEL],\n",
        "                               batch_size=BATCH_SIZE, steps=STEPS)"
      ],
      "execution_count": 65,
      "outputs": [
        {
          "output_type": "stream",
          "text": [
            "Training model...\n",
            "  Loss after period 00 : 15.543\n",
            "  Loss after period 01 : 6.409\n",
            "  Loss after period 02 : 3.650\n",
            "  Loss after period 03 : 2.329\n",
            "  Loss after period 04 : 1.809\n",
            "  Loss after period 05 : 1.619\n",
            "  Loss after period 06 : 1.566\n",
            "  Loss after period 07 : 1.555\n",
            "  Loss after period 08 : 1.555\n",
            "  Loss after period 09 : 1.553\n",
            "Final Loss (RMSE) on the training data: 1.553\n"
          ],
          "name": "stdout"
        },
        {
          "output_type": "display_data",
          "data": {
            "image/png": "[encoded data removed]",
            "text/plain": [
              "<matplotlib.figure.Figure at 0x7fd1c1f92898>"
            ]
          },
          "metadata": {
            "tags": []
          }
        }
      ]
    },
    {
      "metadata": {
        "id": "uu0IGRtLMqcq",
        "colab_type": "code",
        "colab": {
          "base_uri": "https://localhost:8080/",
          "height": 68
        },
        "outputId": "195f75f9-ddc6-457f-abfa-b8b5ddc05f1b"
      },
      "cell_type": "code",
      "source": [
        "print(\"weight for price:\", linear_regressor.get_variable_value(\n",
        "    \"linear/linear_model/price/weights\")[0])\n",
        "print(\"weight for highway-mpg:\", linear_regressor.get_variable_value(\n",
        "    \"linear/linear_model/highway-mpg/weights\")[0])\n",
        "print(\"bias:\",  linear_regressor.get_variable_value(\"linear/linear_model/bias_weights\"))"
      ],
      "execution_count": 64,
      "outputs": [
        {
          "output_type": "stream",
          "text": [
            "weight for price: [-5.344438]\n",
            "weight for highway-mpg: [28.403864]\n",
            "bias: [15.290324]\n"
          ],
          "name": "stdout"
        }
      ]
    },
    {
      "metadata": {
        "id": "fZ9itOQcPp2a",
        "colab_type": "text"
      },
      "cell_type": "markdown",
      "source": [
        "1. RMSE in Task 2 : 23.322\n",
        "2. RMSE in Task 4 : 1.553\n",
        "\n",
        "Conclusion: \n",
        "There is much less squared mean error in the task when the data was scaled linearly. I conclude that the input data should be in similar ranges. Because \n",
        "if very different ranges exist you will have predictions that are not to good for your actual target values. You can use log scaling, linear scaling, clipping or z-score.\n"
      ]
    },
    {
      "metadata": {
        "id": "other_transformations_text",
        "colab_type": "text"
      },
      "cell_type": "markdown",
      "source": [
        "You are welcome to also explore using other feature transformations such as log scaling or linear scaling applied after log scaling.  However, for this simple problem, linear scaling is sufficient."
      ]
    }
  ]
}